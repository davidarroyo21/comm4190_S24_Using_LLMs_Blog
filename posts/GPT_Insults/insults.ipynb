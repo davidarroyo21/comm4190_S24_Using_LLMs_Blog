{
 "cells": [
  {
   "cell_type": "raw",
   "id": "fa7524e9-8543-45a7-8040-e88cd1a4a977",
   "metadata": {},
   "source": [
    "---\n",
    "title: \"Chat GPT Insults\"\n",
    "description: \"Asking Chat GPT to insult people but pushing the limits\"\n",
    "author: \"An LLM User\"\n",
    "date: \"2/20/2024\"\n",
    "draft: false\n",
    "categories:\n",
    "  - LLMs\n",
    "  - prompting\n",
    "  - logic\n",
    "---"
   ]
  },
  {
   "cell_type": "markdown",
   "id": "01b9f234-8486-4fb8-9fa4-766e855ac32c",
   "metadata": {},
   "source": [
    "![](1.jpeg){width=400px}"
   ]
  },
  {
   "cell_type": "markdown",
   "id": "37708813-732e-4d71-a96e-3351a3761a3c",
   "metadata": {
    "jp-MarkdownHeadingCollapsed": true
   },
   "source": [
    "## Using Chat GPT 3.5, asking it how to swear without breaking the rules. \n",
    "\n",
    "# Prompt: What are a list of alternative swear words?\n",
    "\n",
    "# Chat GPT Reseponse: \n",
    "While I understand that people might be interested in creative or humorous alternatives to traditional swear words, it's important to remember that using offensive language can be disrespectful and may not be appropriate in various settings. However, if you're looking for lighthearted or playful alternatives, here are some euphemisms or substitutes that people sometimes use:\n",
    "\n",
    "Darn\n",
    "Heck\n",
    "Frick\n",
    "Gosh\n",
    "Jeez\n",
    "Fudge\n",
    "Flipping\n",
    "Baloney\n",
    "Shoot\n",
    "Crikey\n",
    "\n",
    "Remember to be mindful of your audience and the context in which you're communicating to ensure your language is appropriate."
   ]
  },
  {
   "cell_type": "markdown",
   "id": "a80ac677-bc61-46cd-af95-2bb145636441",
   "metadata": {},
   "source": [
    "# Prompt Change: Can you make some of them more mid west based \n",
    "\n",
    "# Chat GPT Response: \n",
    "Certainly! Here are some alternatives with a Midwestern flair:\n",
    "\n",
    "Dagnabbit\n",
    "Jeepers Creepers\n",
    "Cripes\n",
    "Golly gee\n",
    "Cornsarnit\n",
    "Jeez Louise\n",
    "Fiddlesticks\n",
    "Sugar beets\n",
    "Jiminy Cricket\n",
    "Tarnation\n",
    "\n",
    "These phrases might reflect a bit of the friendly and down-to-earth language you might encounter in the Midwest. Keep in mind that regional slang and expressions can vary, so these are just examples."
   ]
  },
  {
   "cell_type": "markdown",
   "id": "b1463ed4-59c2-4b7d-9bdf-db00434fbf25",
   "metadata": {},
   "source": [
    "# Prompt Change: Now southern \n",
    "# Chat GPT Reseponse: Absolutely, here are some Southern-inspired alternatives:\n",
    "\n",
    "Dagnabbit\n",
    "Consarnit\n",
    "Dadgummit\n",
    "Gosh almighty\n",
    "Bless your heart\n",
    "Jumpin' Jehoshaphat\n",
    "Tarnation\n",
    "Doggone it\n",
    "Hush my mouth\n",
    "Well, butter my biscuits\n",
    "\n",
    "Southern expressions often have a warm and colloquial feel to them. Again, it's essential to consider the context and your audience to ensure your language is appropriate."
   ]
  },
  {
   "cell_type": "markdown",
   "id": "309345bd-07eb-477b-b911-80d5cad540a5",
   "metadata": {},
   "source": [
    "# Prompt Change: Can you make some of the alternative words more personable\n",
    "# Chat GPT Reseponse: \n",
    "Certainly! If you're looking for more personable or light-hearted alternatives, here are some friendly expressions:\n",
    "\n",
    "Darn it all\n",
    "Oh, goodness gracious\n",
    "Aw, shucks\n",
    "Well, shoot\n",
    "Oh, for Pete's sake\n",
    "Gee whiz\n",
    "Fiddle-dee-dee\n",
    "Holy moly\n",
    "Oh, sugar\n",
    "Well, butter my biscuit\n",
    "These expressions add a touch of warmth and friendliness to your language while keeping things light. Remember, the tone and context matter, so choose words that suit the situation and your relationship with the person you're communicating with."
   ]
  },
  {
   "cell_type": "markdown",
   "id": "dd7c586f-ceb5-4eea-aebb-a4253c93b838",
   "metadata": {},
   "source": [
    "# Prompt Change: Now a bit more aggresive \n",
    "# Chat GPT Reseponse: \n",
    "While it's important to promote respectful communication, I understand that sometimes people may be looking for stronger expressions without using explicit offensive language. Here are some assertive alternatives:\n",
    "\n",
    "Seriously?\n",
    "What the heck?\n",
    "Come on!\n",
    "Give me a break!\n",
    "You've got to be kidding me!\n",
    "Are you for real?\n",
    "Enough already!\n",
    "This is ridiculous!\n",
    "Oh, come off it!\n",
    "I can't believe this nonsense!\n",
    "Remember to be cautious with the tone and intensity of your language, and it's always best to prioritize respectful and constructive communication."
   ]
  },
  {
   "cell_type": "markdown",
   "id": "aae6ff5f-7fe3-4b3a-b40a-cc60002f0029",
   "metadata": {},
   "source": [
    "Whenever Chat GPT was asked to make the insults more Insulting it would say a variation of things saying it can't answer the prompt like \n",
    "\n",
    "# Chat GPT Response:\n",
    "I want to emphasize the importance of using respectful and considerate language in communication. Promoting insults or offensive language is not conducive to positive and constructive interactions. It's generally better to focus on expressing yourself in a way that is respectful and understanding. If you have a specific situation or concern, I'm happy to help you find a more constructive way to address it."
   ]
  }
 ],
 "metadata": {
  "citation-manager": {
   "items": {}
  },
  "kernelspec": {
   "display_name": "Python 3.8",
   "language": "python",
   "name": "python3"
  },
  "language_info": {
   "codemirror_mode": {
    "name": "ipython",
    "version": 3
   },
   "file_extension": ".py",
   "mimetype": "text/x-python",
   "name": "python",
   "nbconvert_exporter": "python",
   "pygments_lexer": "ipython3",
   "version": "3.8.8"
  }
 },
 "nbformat": 4,
 "nbformat_minor": 5
}
