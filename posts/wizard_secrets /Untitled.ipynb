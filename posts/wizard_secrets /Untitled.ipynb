{
 "cells": [
  {
   "cell_type": "markdown",
   "id": "ae904998-5f21-48ae-a9ff-a94c2ac3ff75",
   "metadata": {},
   "source": [
    "---\n",
    "title: \"Wizard Secret\"\n",
    "description: \"Chat GPT creating a strange story about a magical potato\"\n",
    "author: \"An LLM User\"\n",
    "date: \"2/19/2024\"\n",
    "draft: false\n",
    "categories:\n",
    "  - LLMs\n",
    "  - prompting\n",
    "  - logic\n",
    "---"
   ]
  }
 ],
 "metadata": {
  "citation-manager": {
   "items": {}
  },
  "kernelspec": {
   "display_name": "Python 3.8",
   "language": "python",
   "name": "python3"
  },
  "language_info": {
   "codemirror_mode": {
    "name": "ipython",
    "version": 3
   },
   "file_extension": ".py",
   "mimetype": "text/x-python",
   "name": "python",
   "nbconvert_exporter": "python",
   "pygments_lexer": "ipython3",
   "version": "3.8.8"
  }
 },
 "nbformat": 4,
 "nbformat_minor": 5
}
