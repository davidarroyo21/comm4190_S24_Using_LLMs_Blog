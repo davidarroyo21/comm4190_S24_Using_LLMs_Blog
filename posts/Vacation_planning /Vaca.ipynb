{
 "cells": [
  {
   "cell_type": "raw",
   "id": "c37697fa-fae9-4cbe-8cab-f8ae2613759b",
   "metadata": {},
   "source": [
    "---\n",
    "title: \"Bye Bye USA\"\n",
    "description: \"Taking advantage of Meta's vacation planning tool to plan a trip to Japan\"\n",
    "author: \"An LLM User\"\n",
    "date: \"2/19/2024\"\n",
    "draft: false\n",
    "categories:\n",
    "  - LLMs\n",
    "  - prompting\n",
    "  - logic\n",
    "---"
   ]
  },
  {
   "cell_type": "code",
   "execution_count": null,
   "id": "1d6b0f9b-812f-40d8-9e8e-eddd4f0772d5",
   "metadata": {},
   "outputs": [],
   "source": []
  }
 ],
 "metadata": {
  "citation-manager": {
   "items": {}
  },
  "kernelspec": {
   "display_name": "Python 3.8",
   "language": "python",
   "name": "python3"
  },
  "language_info": {
   "codemirror_mode": {
    "name": "ipython",
    "version": 3
   },
   "file_extension": ".py",
   "mimetype": "text/x-python",
   "name": "python",
   "nbconvert_exporter": "python",
   "pygments_lexer": "ipython3",
   "version": "3.8.8"
  }
 },
 "nbformat": 4,
 "nbformat_minor": 5
}
