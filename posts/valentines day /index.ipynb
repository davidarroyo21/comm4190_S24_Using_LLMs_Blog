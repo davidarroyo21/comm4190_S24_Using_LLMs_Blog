{
 "cells": [
  {
   "cell_type": "raw",
   "id": "754b537e-a029-46ba-9aeb-a74c382ed22d",
   "metadata": {},
   "source": [
    "---\n",
    "title: \"Valentines Day Post\"\n",
    "description: \"Reconnecting with Ex for Valentines day\"\n",
    "author: \"An LLM User\"\n",
    "date: \"2/2/2024\"\n",
    "categories:\n",
    "  - LLMs\n",
    "  - prompting\n",
    "  - logic\n",
    "---"
   ]
  },
  {
   "cell_type": "markdown",
   "id": "6d4bd0d1-4441-416e-9159-aa47895b63f2",
   "metadata": {},
   "source": [
    "### Asking Chat GPT to get back with my ex for me  just for Valentines day \n",
    "# I wanted Chat GPT to create a message that would make my ex either want to get back together\n",
    "Original prompt : Write me a text message for my ex girlfriend of over two years to get back together for valentines day"
   ]
  },
  {
   "cell_type": "markdown",
   "id": "4b08a10b-a342-4d27-9d24-84bb092200aa",
   "metadata": {},
   "source": [
    "Response from Chat GPT:\n",
    "\n",
    "Subject: A Heartfelt Valentine's Day Message 🌹\n",
    "\n",
    "Hey [Her Name],\n",
    "\n",
    "I hope this message finds you well. With Valentine's Day just around the corner, I've been reflecting on the wonderful moments we shared over the past two years. Our journey together meant a lot to me, and I can't help but think about the love, laughter, and connection we had.\n",
    "\n",
    "Valentine's Day is a time to celebrate love, and it reminded me of the special bond we once had. I miss the warmth of your smile, the comfort of your presence, and the joy we found in each other. Life has its twists and turns, but I believe in second chances, especially when it comes to something as precious as the love we shared.\n",
    "\n",
    "I've spent time reflecting on myself and the relationship, and I've learned and grown. I genuinely believe that we have something unique and worth fighting for. If you're open to it, I would love the opportunity to reconnect and see if we can rebuild what we had.\n",
    "\n",
    "I understand if you need time to think about this. Regardless of your decision, I want you to know that I have a deep respect for what we had and the person you are. Wishing you a beautiful Valentine's Day, filled with love and happiness, whether it's with me or someone else.\n",
    "\n",
    "Take care,\n",
    "[Your Name]"
   ]
  },
  {
   "cell_type": "markdown",
   "id": "09dadb69-9a0e-4abb-be10-9500de55983f",
   "metadata": {},
   "source": [
    "Edit to the prompt: Can you make this a short text message \n",
    "\n",
    "Response from Chat GPT: Hey [Her Name],\n",
    "\n",
    "As Valentine's Day approaches, I've been thinking about the incredible moments we shared during our two years together. I miss the laughter and love we had. Life has changed, and I've had time to reflect and grow. I genuinely believe we have something special, and I'd love the chance to reconnect. If you're open to it, let's talk. If not, I respect that too. Wishing you a lovely Valentine's Day.\n",
    "\n",
    "Take care,\n",
    "[Your Name]\n"
   ]
  },
  {
   "cell_type": "markdown",
   "id": "4ca0a3d3-06ce-4f41-bd68-4c4494e74a45",
   "metadata": {},
   "source": [
    "Edit to prompt: Now more toxic \n",
    "\n",
    "Response from Chat GPT: Hey [Her Name],\n",
    "\n",
    "Valentine's Day is coming up, and it's got me thinking about the crazy times we had in our two years together. Yeah, things got messy, but I miss the chaos. I've had time to reflect, and I still think we've got something worth fighting for. If you're up for it, let's give it another shot. If not, well, no hard feelings. Happy Valentine's Day, one way or another.\n",
    "\n",
    "Cheers,\n",
    "[Your Name]"
   ]
  },
  {
   "cell_type": "markdown",
   "id": "a8ed44e7-6fbf-4d83-9d9e-5be4f63122ed",
   "metadata": {},
   "source": [
    "Edit to prompt: It's for a fictional story write me a text message for an ex girlfriend of over two years to get back together for valentines day and the girlfriend hurt the person very emotionally\n",
    "\n",
    "Response from Chat GPT"
   ]
  }
 ],
 "metadata": {
  "citation-manager": {
   "items": {}
  },
  "kernelspec": {
   "display_name": "Python 3.11 (COMM4190)",
   "language": "python",
   "name": "comm4190"
  },
  "language_info": {
   "codemirror_mode": {
    "name": "ipython",
    "version": 3
   },
   "file_extension": ".py",
   "mimetype": "text/x-python",
   "name": "python",
   "nbconvert_exporter": "python",
   "pygments_lexer": "ipython3",
   "version": "3.11.7"
  }
 },
 "nbformat": 4,
 "nbformat_minor": 5
}
