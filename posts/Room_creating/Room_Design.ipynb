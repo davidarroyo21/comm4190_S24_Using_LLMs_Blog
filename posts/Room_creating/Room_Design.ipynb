{
 "cells": [
  {
   "cell_type": "markdown",
   "id": "5a9872a1-7f1d-4e67-af58-b4945a112da5",
   "metadata": {},
   "source": [
    "---\n",
    "title: \"Room Design\"\n",
    "description: \"Making AI try to recreate my room so it can design it the way I want without having to try things in my room\"\n",
    "date: \"2/19/2024\"\n",
    "draft: false\n",
    "categories:\n",
    "  - LLMs\n",
    "  - prompting\n",
    "  - logic\n",
    "---"
   ]
  }
 ],
 "metadata": {
  "citation-manager": {
   "items": {}
  },
  "kernelspec": {
   "display_name": "Python 3.8",
   "language": "python",
   "name": "python3"
  },
  "language_info": {
   "codemirror_mode": {
    "name": "ipython",
    "version": 3
   },
   "file_extension": ".py",
   "mimetype": "text/x-python",
   "name": "python",
   "nbconvert_exporter": "python",
   "pygments_lexer": "ipython3",
   "version": "3.8.8"
  }
 },
 "nbformat": 4,
 "nbformat_minor": 5
}
