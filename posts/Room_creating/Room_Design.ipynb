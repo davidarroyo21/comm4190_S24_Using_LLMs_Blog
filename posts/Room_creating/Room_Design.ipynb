{
 "cells": [
  {
   "cell_type": "raw",
   "id": "ff3a229b-487b-47b7-bce9-8cea05741501",
   "metadata": {},
   "source": [
    "---\n",
    "title: \"Room Design\"\n",
    "description: \"Making AI try to recreate my room so it can design it the way I want without having to try things in my room\"\n",
    "date: \"04/19/2024\"\n",
    "draft: false\n",
    "categories:\n",
    "  - LLMs\n",
    "  - prompting\n",
    "  - logic\n",
    "---"
   ]
  },
  {
   "cell_type": "markdown",
   "id": "8ddf9eb4-556a-4e15-b63b-b831df609e5d",
   "metadata": {},
   "source": [
    "![](1.jpeg){width=400px}"
   ]
  },
  {
   "cell_type": "markdown",
   "id": "ef4b4e3e-93bb-4649-82fc-185590e58695",
   "metadata": {},
   "source": [
    "# Thoughts: \n",
    "I wanted to get Meta to design my room with prompting but I struggled a bit with getting the design for the room correct. My room next year will be smaller than the one I am currently in so I wanted to see if I could get some inspiration for the room design with regards to spacing. The spacing of the designs I was given weren't fantastic or anything too wild from other room designs but there were some cute ideas for the room especially towards the end when I said to add color and to in green blankets. Prompting it by saying to make it more like a college room made it give the room have less colors and made it very neutral but would add in young adults into the photos. \n",
    "# Prompt:\n",
    "Imagine: can you imagine a small room in a ten person house\n",
    "\n",
    "![](first.png){width=400px}"
   ]
  },
  {
   "cell_type": "markdown",
   "id": "6a012944-591f-481c-8135-7c9e9d22390f",
   "metadata": {},
   "source": [
    "# Prompt:\n",
    "can you make sure the room has two windows on one wall with a closet on the left side\n",
    "\n",
    "![](second.png){width=400px}"
   ]
  },
  {
   "cell_type": "markdown",
   "id": "77b3ee73-08f6-4caa-b46e-db36538ea4bd",
   "metadata": {},
   "source": [
    "# Prompt:\n",
    "can you create an image of a room in a ten person Philadelphia townhouse\n",
    "\n",
    "![](third.png){width=400px}"
   ]
  },
  {
   "cell_type": "markdown",
   "id": "dc5101d0-dd03-4042-b4cb-77eae8a28742",
   "metadata": {},
   "source": [
    "# Prompt:\n",
    "of a bedroom\n",
    "\n",
    "![](fourth.png){width=400px}"
   ]
  },
  {
   "cell_type": "markdown",
   "id": "d9925132-10f1-4cfc-8399-78a9a2a08104",
   "metadata": {},
   "source": [
    "# Prompt:\n",
    "without people\n",
    "\n",
    "![](sixth.png){width=400px}"
   ]
  },
  {
   "cell_type": "markdown",
   "id": "52b5d8ea-dd8d-4291-a370-096d1f1e97fc",
   "metadata": {},
   "source": [
    "# Prompt:\n",
    "full bed size with only two windows with bed facing the windows\n",
    "\n",
    "![](seven.png){width=400px}"
   ]
  },
  {
   "cell_type": "markdown",
   "id": "6842556c-f21c-4041-a24d-6384447b2d79",
   "metadata": {},
   "source": [
    "# Prompt:\n",
    "but for someone as a college senior\n",
    "\n",
    "![](eight.png){width=400px}"
   ]
  },
  {
   "cell_type": "markdown",
   "id": "dad68dd3-4160-49eb-bb19-3fd552a60266",
   "metadata": {},
   "source": [
    "# Prompt:\n",
    "no person in the room\n",
    "\n",
    "![](nine.png){width=400px}"
   ]
  },
  {
   "cell_type": "markdown",
   "id": "7c533e07-247c-4336-96d4-5b1b8cf9e3a9",
   "metadata": {},
   "source": [
    "# Prompt:\n",
    "more of a colorful room with green bedding\n",
    "\n",
    "![](ten.png){width=400px}"
   ]
  },
  {
   "cell_type": "code",
   "execution_count": null,
   "id": "3fae2146-20c2-4b45-a873-516c3cb1d0d0",
   "metadata": {},
   "outputs": [],
   "source": []
  }
 ],
 "metadata": {
  "citation-manager": {
   "items": {}
  },
  "kernelspec": {
   "display_name": "Python 3.8",
   "language": "python",
   "name": "python3"
  },
  "language_info": {
   "codemirror_mode": {
    "name": "ipython",
    "version": 3
   },
   "file_extension": ".py",
   "mimetype": "text/x-python",
   "name": "python",
   "nbconvert_exporter": "python",
   "pygments_lexer": "ipython3",
   "version": "3.8.8"
  }
 },
 "nbformat": 4,
 "nbformat_minor": 5
}
