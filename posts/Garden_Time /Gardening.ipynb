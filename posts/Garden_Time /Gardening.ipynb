{
 "cells": [
  {
   "cell_type": "raw",
   "id": "bab321d7-7560-44b9-a835-740fa6256c4c",
   "metadata": {},
   "source": [
    "---\n",
    "title: \"Garden Time\"\n",
    "description: \"Prompting Meta to design and describe a self sustaining garden\"\n",
    "author: \"An LLM User\"\n",
    "date: \"05/09/2024\"\n",
    "draft: false\n",
    "categories:\n",
    "  - LLMs\n",
    "  - prompting\n",
    "  - logic\n",
    "---"
   ]
  },
  {
   "cell_type": "markdown",
   "id": "f7832690-ef82-44ac-891a-8101a704b03f",
   "metadata": {},
   "source": [
    "![](garden.jpeg){width=400px}"
   ]
  },
  {
   "cell_type": "markdown",
   "id": "a7dde15d-4750-420f-a0e2-128fdb68bc2d",
   "metadata": {},
   "source": [
    "# Original thought process: \n",
    "I love gardening and watching the tiktokers and youtubers who build massive gardens. This was my original interest and I wanted to see how much information Meta would be able to give me based on the large amounts of information on gardening and what it would take to have a large garden. I also wanted to see if it would be able to create a vision of what the garden may look like based on youtubers and the advice it had given me. It gave solid advice on how to garden but it was a bit surface level but I think with more prompting about specific techniques and things it advised it would work out. The photos it created were very interesting, some were very utopian or even like a green house type of enclosed space but I wanted more of a regular garden anyone can have. \n",
    "\n",
    "# Prompt: \n",
    "can you build a self sustaining garden\n",
    "\n",
    "# Chat GPT Response:\n",
    "Yes, I can provide guidance on building a self-sustaining garden! A self-sustaining garden is a closed ecosystem that relies on natural processes to maintain soil fertility, control pests and diseases, and conserve water. Here's a basic outline to get you started:\n",
    "Key Components:\n",
    "Composting: Turn food scraps and yard waste into nutrient-rich compost to fertilize your garden.\n",
    "Rainwater Harvesting: Collect and store rainwater for irrigation.\n",
    "Diverse Plant Selection: Choose plants that attract beneficial insects, repel pests, and provide shade, nutrients, or support for other plants.\n",
    "Mulching: Use organic mulch to retain moisture, suppress weeds, and regulate soil temperature.\n",
    "Crop Rotation: Rotate crops to maintain soil fertility, reduce pests and diseases, and promote healthy growth.\n",
    "Beneficial Insects: Attract beneficial insects like bees, butterflies, and ladybugs to pollinate and control pests.\n",
    "Natural Pest Control: Use natural methods like neem oil, garlic spray, or diatomaceous earth to control pests.\n",
    "Efficient Irrigation: Use drip irrigation or soaker hoses to conserve water.\n",
    "Steps to Build a Self-Sustaining Garden:\n",
    "Assess Your Site: Evaluate your garden's climate, soil type, and sunlight patterns.\n",
    "Plan Your Garden: Design a diverse and layered garden with a mix of annuals and perennials.\n",
    "Prepare Your Soil: Test and amend your soil as needed, then add compost and mulch.\n",
    "Install Rainwater Harvesting: Set up a rainwater collection system and storage tank.\n",
    "Plant Your Garden: Plant your diverse selection of plants, using crop rotation principles.\n",
    "Maintain and Monitor: Regularly inspect your garden, add compost and mulch as needed, and make adjustments to maintain balance.\n",
    "Additional Tips:\n",
    "Start small and expand as your garden grows.\n",
    "Keep a gardening journal to track progress and note areas for improvement.\n",
    "Be patient and enjoy the process of creating a thriving, self-sustaining garden!\n",
    "I hope this helps you get started on building your self-sustaining garden! Let me know if you have any specific questions or need further guidance."
   ]
  },
  {
   "cell_type": "markdown",
   "id": "fda7b848-716b-45c7-a5c5-ca52485692ee",
   "metadata": {},
   "source": [
    "# Prompt: \n",
    "Can you give more specific for the amount of materials and possible price ranges for this\n",
    "# Chat GPT Response:\n",
    "Here's a more detailed estimate of the materials and costs involved in building a self-sustaining garden:\n",
    "Materials:\n",
    "Composting:\n",
    "Compost bin: $50-$100\n",
    "Compost turner: $20-$30\n",
    "Compost materials (food scraps, yard waste): free or $0\n",
    "Rainwater Harvesting:\n",
    "Rainwater collection tank (500-1000 gallons): $200-$500\n",
    "Downspout diverter: $20-$50\n",
    "First flush device: $30-$50\n",
    "Irrigation tubing and fittings: $50-$100\n",
    "Diverse Plant Selection:\n",
    "Seeds or seedlings (varies by type and quantity): $20-$100\n",
    "Soil amendments (compost, manure, etc.): $20-$50\n",
    "Mulching:\n",
    "Organic mulch (wood chips, straw, etc.): $30-$50 per cubic yard\n",
    "Crop Rotation:\n",
    "No additional materials needed, just planning and labor\n",
    "Beneficial Insects:\n",
    "Insectary plants (seeds or seedlings): $20-$50\n",
    "Insect hotel or habitat: $20-$50\n",
    "Natural Pest Control:\n",
    "Neem oil or garlic spray: $10-$20\n",
    "Diatomaceous earth: $10-$20\n",
    "Efficient Irrigation:\n",
    "Drip irrigation kit: $50-$100\n",
    "Soaker hose: $20-$50\n",
    "Total Estimated Cost: $630-$1,550\n",
    "Price Ranges:\n",
    "Small garden (less than 100 square feet): $300-$800\n",
    "Medium garden (100-200 square feet): $500-$1,200\n",
    "Large garden (more than 200 square feet): $800-$1,800\n",
    "Keep in mind:\n",
    "These estimates are rough and can vary depending on your location, climate, and specific needs.\n",
    "Some materials, like compost and mulch, can be sourced for free or at a low cost with some creativity and resourcefulness.\n",
    "Labor costs are not included, as this is a DIY project.\n",
    "The costs listed are for initial setup; ongoing maintenance and materials will be significantly less.\n",
    "Remember, building a self-sustaining garden is an investment in your food security, environmental sustainability, and personal well-being. While there are upfront costs, the long-term benefits and savings can be substantial!"
   ]
  },
  {
   "cell_type": "markdown",
   "id": "d0649373-4c95-4034-8d40-30f845cc7132",
   "metadata": {},
   "source": [
    "# Prompt:\n",
    "how much could the different size gardens create in terms of produce\n",
    "# Chat GPT Response:\n",
    "The amount of produce a garden can yield depends on various factors like climate, soil quality, plant selection, and gardening practices. However, here's a rough estimate of what you can expect from different-sized gardens:\n",
    "Small Garden (less than 100 square feet):\n",
    "Leafy greens (lettuce, kale, spinach): 1-2 pounds per week\n",
    "Cherry tomatoes: 1-2 pounds per week\n",
    "Herbs (basil, cilantro, parsley): 1/4 cup to 1 cup per week\n",
    "Carrots: 1/2 to 1 pound per week\n",
    "Radishes: 1/2 to 1 pound per week\n",
    "Green beans: 1/2 to 1 pound per week\n",
    "Total estimated weekly yield: 5-10 pounds\n",
    "Medium Garden (100-200 square feet):\n",
    "Leafy greens: 2-4 pounds per week\n",
    "Tomatoes: 2-4 pounds per week\n",
    "Cucumbers: 2-4 pounds per week\n",
    "Zucchini and summer squash: 2-4 pounds per week\n",
    "Carrots: 1-2 pounds per week\n",
    "Radishes: 1-2 pounds per week\n",
    "Green beans: 1-2 pounds per week\n",
    "Peppers: 1-2 pounds per week\n",
    "Total estimated weekly yield: 15-30 pounds\n",
    "Large Garden (more than 200 square feet):\n",
    "Leafy greens: 4-6 pounds per week\n",
    "Tomatoes: 4-6 pounds per week\n",
    "Cucumbers: 4-6 pounds per week\n",
    "Zucchini and summer squash: 4-6 pounds per week\n",
    "Carrots: 2-3 pounds per week\n",
    "Radishes: 2-3 pounds per week\n",
    "Green beans: 2-3 pounds per week\n",
    "Peppers: 2-3 pounds per week\n",
    "Corn: 1-2 pounds per week\n",
    "Eggplants: 1-2 pounds per week\n",
    "Total estimated weekly yield: 30-60 pounds\n",
    "Keep in mind:\n",
    "These estimates are rough and can vary depending on your specific climate, soil, and gardening practices.\n",
    "The yields listed are for a single harvest week, and the actual yield will depend on the specific plants and their growth cycles.\n",
    "These estimates are based on a mix of warm-season and cool-season crops. The actual yield will vary depending on the specific plants you grow.\n",
    "Remember, even a small garden can provide a significant amount of fresh produce, and the benefits of gardening go beyond just the yield!"
   ]
  },
  {
   "cell_type": "markdown",
   "id": "6ad94114-dd8f-44a4-9bb5-76d27344023c",
   "metadata": {},
   "source": [
    "# Prompt:\n",
    "Can you draw an image of what it will look like\n",
    "\n",
    "![](first.png){width=400px}\n",
    "\n"
   ]
  },
  {
   "cell_type": "markdown",
   "id": "a04bcbbf-3aaa-47e9-ae69-537e64e46cd8",
   "metadata": {},
   "source": [
    "# Prompt:\n",
    "similar to how plant people on tiktok have their large gardens and less futuristic\n",
    "\n",
    "![](second.png){width=400px}"
   ]
  },
  {
   "cell_type": "markdown",
   "id": "313ca62f-1dfc-48cd-b43a-c79be2040492",
   "metadata": {},
   "source": [
    "# Prompt:\n",
    "can you make it like Epicgarndening on tiktok\n",
    "\n",
    "![](third.png){width=400px}"
   ]
  },
  {
   "cell_type": "markdown",
   "id": "5212977e-cd61-4ffd-b2ab-9a4b8b5ea89d",
   "metadata": {},
   "source": [
    "# Prompt:\n",
    "no no like epicgardeing the youtuber\n",
    "\n",
    "![](fourth.png){width=400px}"
   ]
  },
  {
   "cell_type": "markdown",
   "id": "9a123c58-cf27-49cf-8443-1617a3dacc0e",
   "metadata": {},
   "source": [
    "# Prompt:\n",
    "that's better but can you get simmilar size to his\n",
    "\n",
    "![](fifth.png){width=400px}"
   ]
  },
  {
   "cell_type": "code",
   "execution_count": null,
   "id": "5c9052bc-81e6-4080-8d06-c80d57e8b0ae",
   "metadata": {},
   "outputs": [],
   "source": []
  }
 ],
 "metadata": {
  "citation-manager": {
   "items": {}
  },
  "kernelspec": {
   "display_name": "Python 3.8",
   "language": "python",
   "name": "python3"
  },
  "language_info": {
   "codemirror_mode": {
    "name": "ipython",
    "version": 3
   },
   "file_extension": ".py",
   "mimetype": "text/x-python",
   "name": "python",
   "nbconvert_exporter": "python",
   "pygments_lexer": "ipython3",
   "version": "3.8.8"
  }
 },
 "nbformat": 4,
 "nbformat_minor": 5
}
