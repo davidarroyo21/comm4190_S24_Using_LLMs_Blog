{
 "cells": [
  {
   "cell_type": "raw",
   "id": "a4650582-b1e4-442f-b646-306874e8caf4",
   "metadata": {},
   "source": [
    "---\n",
    "title: \"Jersey Creation\"\n",
    "description: \"Prompting Meta to design a Jersey for the frisbee team at Penn\"\n",
    "author: \"An LLM User\"\n",
    "date: \"2/19/2024\"\n",
    "draft: false\n",
    "categories:\n",
    "  - LLMs\n",
    "  - prompting\n",
    "  - logic\n",
    "---"
   ]
  }
 ],
 "metadata": {
  "citation-manager": {
   "items": {}
  },
  "kernelspec": {
   "display_name": "Python 3.8",
   "language": "python",
   "name": "python3"
  },
  "language_info": {
   "codemirror_mode": {
    "name": "ipython",
    "version": 3
   },
   "file_extension": ".py",
   "mimetype": "text/x-python",
   "name": "python",
   "nbconvert_exporter": "python",
   "pygments_lexer": "ipython3",
   "version": "3.8.8"
  }
 },
 "nbformat": 4,
 "nbformat_minor": 5
}
