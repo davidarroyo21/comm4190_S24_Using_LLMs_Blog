{
 "cells": [
  {
   "cell_type": "raw",
   "id": "a4650582-b1e4-442f-b646-306874e8caf4",
   "metadata": {},
   "source": [
    "---\n",
    "title: \"Jersey Creation\"\n",
    "description: \"Prompting Meta to design a Jersey for the frisbee team at Penn\"\n",
    "author: \"An LLM User\"\n",
    "date: \"04/27/2024\"\n",
    "draft: false\n",
    "categories:\n",
    "  - LLMs\n",
    "  - prompting\n",
    "  - logic\n",
    "---"
   ]
  },
  {
   "cell_type": "markdown",
   "id": "18a8fe34-44d2-405e-a21c-9dd10a719ee2",
   "metadata": {},
   "source": [
    "# Thoughts:\n",
    "My thought process for prompting Meta for a Jersey for the Ultimate Frisbee team at Penn. I was very annoyed at the jersey they chose and the design and thought I could probably make something better by using AI. I'm very pleased with some of the designs compared to this years jersey deigns. When I first saw pictures of them I instantly knew who made them. The jersey looked like the players fever dream and no one said no to them. So silly, so I decided to prompt Meta to find a better Jersey design. For the most part I found it a success with the exception of a couple issues when I was prompting it to have a bit more creative designs or have figures on the jersey like Ben Franklin. I'm curious what would have happened if I had used chat GPT 4 for the jersey creation. I had a blast editing the designs and adding colors and trying to remove different part from the jerseys. \n",
    "# Prompt: \n",
    "imagine an ultimate frisbee uniform for a team called void\n",
    "\n",
    "![](1.png){width=400px}"
   ]
  },
  {
   "cell_type": "markdown",
   "id": "871c4cd9-9b89-44a4-8bba-8fdf86c82b8c",
   "metadata": {},
   "source": [
    "# Prompt:\n",
    "can you do a color wave of black and purple\n",
    "\n",
    "![](2.png){width=400px}"
   ]
  },
  {
   "cell_type": "markdown",
   "id": "bd6c5bc7-f13f-44c0-8317-db5f737304ec",
   "metadata": {},
   "source": [
    "# Prompt:\n",
    "incorporate more of a spcae them\n",
    "\n",
    "![](3.png){width=400px}"
   ]
  },
  {
   "cell_type": "markdown",
   "id": "4fd60765-6f23-482f-958a-1a152ce8b59e",
   "metadata": {},
   "source": [
    "# Prompt:\n",
    "more spacey themed\n",
    "\n",
    "![](4.png){width=400px}"
   ]
  },
  {
   "cell_type": "markdown",
   "id": "00c4cd35-ce97-4ecf-84b6-f734f5a84898",
   "metadata": {},
   "source": [
    "# Prompt:\n",
    "can you change it up so its still a dark color jersey\n",
    "\n",
    "![](5.png){width=400px}"
   ]
  },
  {
   "cell_type": "markdown",
   "id": "637a31c9-d188-4f55-a630-23298d9bc721",
   "metadata": {},
   "source": [
    "# Prompt:\n",
    "\n",
    "now can you create light colored jerseys for a University frisbee team at UPenn\n",
    "\n",
    "![](6.png){width=400px}"
   ]
  },
  {
   "cell_type": "markdown",
   "id": "df396c31-3a41-4967-92e8-af781b5726b5",
   "metadata": {},
   "source": [
    "# Prompt:\n",
    "can you replace the black with white or a creame color\n",
    "\n",
    "![](7.png){width=400px}"
   ]
  },
  {
   "cell_type": "markdown",
   "id": "45b24942-591c-4822-b5c3-99dbb0846c1e",
   "metadata": {},
   "source": [
    "# Prompt:\n",
    "replace the creame with white\n",
    "\n",
    "![](8.png){width=400px}"
   ]
  },
  {
   "cell_type": "markdown",
   "id": "162a69ce-4b46-4aad-9bd5-82e167866cd7",
   "metadata": {},
   "source": [
    "# Prompt:\n",
    "imagine an ultimate frisbee uniform for a team called void\n",
    "\n",
    "![](9.png){width=400px}"
   ]
  },
  {
   "cell_type": "markdown",
   "id": "49000b32-9b39-4a92-b90d-550aedf96316",
   "metadata": {},
   "source": [
    "# Prompt:\n",
    "make a white home jersey\n",
    "\n",
    "![](10.png){width=400px}"
   ]
  },
  {
   "cell_type": "markdown",
   "id": "797fee72-a5aa-4d6e-9547-002d12723977",
   "metadata": {},
   "source": [
    "# Prompt:\n",
    "make the secondary color more vibrant\n",
    "\n",
    "![](11.png){width=400px}"
   ]
  },
  {
   "cell_type": "markdown",
   "id": "43bdc0be-597b-4eea-9f38-432a1891e731",
   "metadata": {},
   "source": [
    "# Prompt:\n",
    "just make it say void on it do not include \"white home\"\n",
    "\n",
    "![](12.png){width=400px}"
   ]
  },
  {
   "cell_type": "markdown",
   "id": "06be351e-4705-433d-be17-a67e77d5902c",
   "metadata": {},
   "source": [
    "# Prompt:\n",
    "add more contrast\n",
    "\n",
    "![](13.png){width=400px}"
   ]
  },
  {
   "cell_type": "markdown",
   "id": "97cef4cb-39f1-41e1-81af-69a76cd2b1c5",
   "metadata": {},
   "source": [
    "# Prompt:\n",
    "imagine an ultimate frisbee uniform for a team called void with base color\n",
    "\n",
    "![](14.png){width=400px}"
   ]
  },
  {
   "cell_type": "markdown",
   "id": "a98b23b9-a20c-48b3-8c1e-2ba8860f0735",
   "metadata": {},
   "source": [
    "# Prompt:\n",
    "white as the primary color\n",
    "\n",
    "![](15.png){width=400px}"
   ]
  },
  {
   "cell_type": "markdown",
   "id": "198d81c3-e8ea-46e6-a493-64d08949f44c",
   "metadata": {},
   "source": [
    "# Prompt:\n",
    "thats good but add more color\n",
    "\n",
    "![](16.png){width=400px}"
   ]
  },
  {
   "cell_type": "markdown",
   "id": "bc26f429-5122-49d7-b2ed-8a89b82299f1",
   "metadata": {},
   "source": [
    "# Prompt:\n",
    "can you incorporate ben franklin\n",
    "# Response:\n",
    "Oops! I can't generate that image. Can I help you imagine something else?\n",
    "\n",
    "# Prompt:\n",
    "like a small animated version\n",
    "# Response:\n",
    "Oops! I can't generate that image. Can I help you imagine something else?\n",
    "\n",
    "# Prompt:\n",
    "can you incorporate some type of space theme\n",
    "# Response:\n",
    "Oops! I can't generate that image. Can I help you imagine something else?"
   ]
  },
  {
   "cell_type": "markdown",
   "id": "ac6563ac-9569-4e29-80d6-f55ea5a2a40a",
   "metadata": {},
   "source": [
    "# Prompt:\n",
    "a white jersey with a some type of space theme\n",
    "\n",
    "![](17.png){width=400px}"
   ]
  },
  {
   "cell_type": "markdown",
   "id": "afd306af-0833-4742-8d3d-19125389f996",
   "metadata": {},
   "source": [
    "# Prompt:\n",
    "the team is called void\n",
    "\n",
    "![](18.png){width=400px}"
   ]
  },
  {
   "cell_type": "markdown",
   "id": "f7deed12-481e-4b60-8d7e-6fdb86ca5eeb",
   "metadata": {},
   "source": [
    "# Prompt:\n",
    "pull void on the front of the jersy\n",
    "\n",
    "![](19.png){width=400px}"
   ]
  },
  {
   "cell_type": "markdown",
   "id": "c7bd2c39-6287-4ebc-8dcd-9c2ebfb004f1",
   "metadata": {},
   "source": [
    "# Prompt:\n",
    "go back to the original prompt\n",
    "\n",
    "![](20.png){width=400px}"
   ]
  }
 ],
 "metadata": {
  "citation-manager": {
   "items": {}
  },
  "kernelspec": {
   "display_name": "Python 3.8",
   "language": "python",
   "name": "python3"
  },
  "language_info": {
   "codemirror_mode": {
    "name": "ipython",
    "version": 3
   },
   "file_extension": ".py",
   "mimetype": "text/x-python",
   "name": "python",
   "nbconvert_exporter": "python",
   "pygments_lexer": "ipython3",
   "version": "3.8.8"
  }
 },
 "nbformat": 4,
 "nbformat_minor": 5
}
