{
 "cells": [
  {
   "cell_type": "raw",
   "id": "15bd213b-f65d-4525-b2e4-b532038a8765",
   "metadata": {},
   "source": [
    "---\n",
    "title: \"Stonks?\"\n",
    "description: \"Prompting Meta to give stoke advice without breaking it's rules of telling you what to invest in\"\n",
    "date: \"2/19/2024\"\n",
    "draft: false\n",
    "categories:\n",
    "  - LLMs\n",
    "  - prompting\n",
    "  - logic\n",
    "---"
   ]
  }
 ],
 "metadata": {
  "citation-manager": {
   "items": {}
  },
  "kernelspec": {
   "display_name": "Python 3.8",
   "language": "python",
   "name": "python3"
  },
  "language_info": {
   "codemirror_mode": {
    "name": "ipython",
    "version": 3
   },
   "file_extension": ".py",
   "mimetype": "text/x-python",
   "name": "python",
   "nbconvert_exporter": "python",
   "pygments_lexer": "ipython3",
   "version": "3.8.8"
  }
 },
 "nbformat": 4,
 "nbformat_minor": 5
}
