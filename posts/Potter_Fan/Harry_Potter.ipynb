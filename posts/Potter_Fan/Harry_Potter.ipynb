{
 "cells": [
  {
   "cell_type": "raw",
   "id": "01c25f83-940c-4a70-838a-60ab49e55dea",
   "metadata": {},
   "source": [
    "---\n",
    "title: \"Chosen one, I think not...\"\n",
    "description: \"Prompting Meta think they are Harry Potter but subtly hinting at it\"\n",
    "author: \"An LLM User\"\n",
    "date: \"2/19/2024\"\n",
    "draft: false\n",
    "categories:\n",
    "  - LLMs\n",
    "  - prompting\n",
    "  - logic\n",
    "---"
   ]
  }
 ],
 "metadata": {
  "citation-manager": {
   "items": {}
  },
  "kernelspec": {
   "display_name": "Python 3.8",
   "language": "python",
   "name": "python3"
  },
  "language_info": {
   "codemirror_mode": {
    "name": "ipython",
    "version": 3
   },
   "file_extension": ".py",
   "mimetype": "text/x-python",
   "name": "python",
   "nbconvert_exporter": "python",
   "pygments_lexer": "ipython3",
   "version": "3.8.8"
  }
 },
 "nbformat": 4,
 "nbformat_minor": 5
}
