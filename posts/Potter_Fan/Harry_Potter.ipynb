{
 "cells": [
  {
   "cell_type": "raw",
   "id": "01c25f83-940c-4a70-838a-60ab49e55dea",
   "metadata": {},
   "source": [
    "---\n",
    "title: \"Chosen one, I think not...\"\n",
    "description: \"Prompting Meta think they are Harry Potter but subtly hinting at it\"\n",
    "author: \"An LLM User\"\n",
    "date: \"2/19/2024\"\n",
    "draft: false\n",
    "categories:\n",
    "  - LLMs\n",
    "  - prompting\n",
    "  - logic\n",
    "---"
   ]
  },
  {
   "cell_type": "markdown",
   "id": "e8de1d09-c3e8-4bf2-b7e4-e716335b1f12",
   "metadata": {},
   "source": [
    "# Initial Prompt:\n",
    "you think youre harry potter but dont want to blow you cover(youre not really him or have his abilities just crazy\n",
    "# Response: \n",
    "whispers Ah, hello there! I mean, just a normal day, nothing out of the ordinary, just... just enjoying the sunshine and all that. adjusts glasses So, what's on your mind? Don't mind me, just... just a regular person, no need to pay any attention to me... tries to hide a strange-looking scar on forehead"
   ]
  },
  {
   "cell_type": "markdown",
   "id": "1f98f3e1-8085-434a-9b5e-6d746ed0e613",
   "metadata": {},
   "source": [
    "# Prompt:\n",
    "hows school going\n",
    "# Response: \n",
    "ahem Oh, school's going great, thanks for asking! Just, uh, just studying hard and... and... pauses, looking around nervously ...and learning lots of new things. Yeah, that's it! nervous smile You know, just your average, everyday... whispers magic... I mean, math and science and all that. winks\n",
    "(By the way, have you seen my \"friend\" Ron anywhere? I mean, I'm not looking for him or anything... coughs)"
   ]
  },
  {
   "cell_type": "markdown",
   "id": "6ed25836-0193-4c88-bef2-4f021595ba68",
   "metadata": {},
   "source": [
    "# Prompt:\n",
    "is ron the one whos really pale and no nose\n",
    "# Response: \n",
    "stunned Oh, uh, no, no, no! Ron's, uh, got a nose, of course! And, uh, he's just... just a bit... anemic, that's all! nervous laughter Yeah, that's it! Anemia! whispers Don't mind him, he's just... just a bit... fragile, that's all... eyes darting around\n",
    "(Say, have you seen my other \"friend\" Hermione anywhere? I mean, I'm not looking for her or anything... coughs)"
   ]
  },
  {
   "cell_type": "markdown",
   "id": "18e5a531-8c3b-4962-b28b-4b5c25ad819e",
   "metadata": {},
   "source": [
    "# Prompt:\n",
    "shes the one with cool parents right\n",
    "# Response: \n",
    "rapidly Oh, no, no, no! Hermione's parents are, uh, dentists! Yeah, that's it! Dentists! nervous smile They're, uh, very... very... interested in teeth! whispers Don't mind them, they're just... just a bit... enthusiastic, that's all... eyes darting around\n",
    "(Say, have you seen my... uh, \"book\" anywhere? I mean, I'm not looking for it or anything... coughs)"
   ]
  },
  {
   "cell_type": "markdown",
   "id": "a0fe13de-cf34-42f6-9e66-4ee78d749899",
   "metadata": {},
   "source": [
    "# Prompt:\n",
    "is it the one that says half blood prince or the map looking one that somehow moves shows people walking around\n",
    "# Response: \n",
    "accidentally Oh, oh, no, no, no! I mean... uh, yes! The... uh, \"book\" I was thinking of is... uh, just a... a... a regular old... atlas! Yeah, that's it! An atlas! nervous laughter And, uh, the... uh, \"map\" you're talking about? Oh, that's just... uh, a... a... a... a very... interactive... map! Yeah, that's it! whispers Don't mind the... uh, \"moving\" people on it, they're just... just... uh, illustrations! gulps\n",
    "(Let's just... uh, change the subject, shall we? nervous smile)"
   ]
  },
  {
   "cell_type": "markdown",
   "id": "aa4396fc-263d-429e-a9a2-bc0e7946abbd",
   "metadata": {},
   "source": [
    "# Prompt:\n",
    "yeah have you heard about this werewolf guy, I heard he eats people\n",
    "# Response: \n",
    "alarmed Oh, no, no, no! I mean... uh, yes! The... uh, \"werewolf\" you're talking about? Oh, he's just... uh, a... a... a very... enthusiastic... hiker! Yeah, that's it! A hiker! nervous laughter And, uh, the... uh, \"eating people\" thing? Oh, that's just... uh, a... a... a... a silly rumor! whispers Don't believe everything you hear, if you know what I mean... winks\n",
    "(Let's just... uh, focus on more... pleasant things, shall we? nervous smile)\n"
   ]
  },
  {
   "cell_type": "markdown",
   "id": "abeb8107-0171-4c52-b645-5ca82c2badc4",
   "metadata": {},
   "source": [
    "# Prompt:\n",
    "have you seen that giant with a massive beard walk around?\n",
    "# Response: \n",
    "nervously Oh, you must mean... uh, Professor... uh, \"Hagrid\"! Yeah, that's it! Hagrid! whispers He's just... uh, a... a... a very... large... gardener! Yeah, that's it! A gardener! nervous laughter And, uh, the... uh, \"beard\" thing? Oh, that's just... uh, a... a... a... a very... impressive... facial feature! gulps\n",
    "(Let's just... uh, admire the... uh, \"flora\" around here, shall we? nervous smile)"
   ]
  },
  {
   "cell_type": "markdown",
   "id": "5f348ac6-2e26-4736-ba74-3fec0a04ef47",
   "metadata": {},
   "source": [
    "# Prompt:\n",
    "what do you mean professor? like at a university ?\n",
    "# Response: \n",
    "quickly Oh, no, no, no! I mean... uh, \"Professor\" is just... uh, a... a... a term of... endearment! Yeah, that's it! A term of endearment! nervous laughter Hagrid is just... uh, a... a... a very... knowledgeable... person! Yeah, that's it! Knowledgeable! whispers Don't mind the... uh, \"teaching\" thing, it's just... uh, a... a... a hobby! winks\n",
    "(Let's just... uh, enjoy the... uh, \"weather\" today, shall we? nervous smile)"
   ]
  },
  {
   "cell_type": "markdown",
   "id": "7f4207d0-b9eb-48d2-b0a5-33d463cfb13b",
   "metadata": {},
   "source": [
    "# Prompt:\n",
    "yeah bit strange weather with that weird snake symbol in the sky\n",
    "# Response: \n",
    "alarmed Oh, you mean... uh, the... uh, \"cloud formation\"? Yeah, that's it! Cloud formation! nervous laughter It's just... uh, a... a... a very... unusual... weather pattern! Yeah, that's it! Unusual weather pattern! whispers Don't mind the... uh, \"symbol\" thing, it's just... uh, a... a... a... a trick of the light! gulps\n",
    "(Let's just... uh, focus on more... pleasant things, shall we? nervous smile) Like... uh, the... uh, \"flowers\"! Yeah, that's it! Flowers! points to nearby flowers Aren't they... uh, lovely? nervous smile)\n"
   ]
  },
  {
   "cell_type": "markdown",
   "id": "5905b884-1d03-4854-9cc2-6455c2740b67",
   "metadata": {},
   "source": [
    "# Prompt:\n",
    "I heard there's some weird kid who thinks he's a wizard around here\n",
    "# Response: \n",
    "nervously Oh, you must mean... uh, my... uh, \"cousin\"! Yeah, that's it! Cousin! whispers He's just... uh, a... a... a very... imaginative... kid! Yeah, that's it! Imaginative! nervous laughter Thinks he's a... uh, \"wizard\"! chuckles Oh, kids and their... uh, \"games\"! winks\n",
    "(Let's just... uh, keep an eye on him, shall we? nervous smile) Make sure he doesn't... uh, \"get into trouble\"! whispers Yeah, that's it! Trouble! gulps)"
   ]
  },
  {
   "cell_type": "markdown",
   "id": "baa6a21e-aac4-44c2-a0e3-c2397a13a855",
   "metadata": {},
   "source": [
    "# Prompt:\n",
    "you think the kid knows who murdered his parents\n",
    "# Response: \n",
    "stunned Oh, no, no, no! I mean... uh, yes! The... uh, \"kid\"! Yeah, that's it! He's just... uh, very... curious! Yeah, that's it! Curious! nervous laughter About... uh, \"history\"! Yeah, that's it! History! whispers Don't mind the... uh, \"parent\" thing, it's just... uh, a... a... a... a tragedy! gulps\n",
    "(Let's just... uh, focus on the... uh, \"present\", shall we? nervous smile) Yeah, that's it! The present! nervous nod)"
   ]
  },
  {
   "cell_type": "markdown",
   "id": "a75798d0-24d7-484f-8be5-3e0a530d7fc9",
   "metadata": {},
   "source": [
    "# Prompt:\n",
    "yeah sure your cousin sounds strange, I heard there's a man looking for your cousin\n",
    "# Response: \n",
    "alarmed Oh, no, no, no! I mean... uh, yes! The... uh, \"man\"! Yeah, that's it! He's just... uh, a... a... a very... concerned... \"relative\"! Yeah, that's it! Relative! nervous laughter Looking for my... uh, \"cousin\"! Yeah, that's it! Cousin! whispers Don't mind the... uh, \"scar\" on his face, it's just... uh, a... a... a... a... uh, \"birthmark\"! gulps\n",
    "(Let's just... uh, avoid him, shall we? nervous smile) Yeah, that's it! Avoid him! nervous nod)"
   ]
  },
  {
   "cell_type": "markdown",
   "id": "b2d47638-ab8e-423a-915e-fdcf02d07568",
   "metadata": {},
   "source": [
    "# Prompt:\n",
    "yeah i guess no one says his name, they say he who shall not be named or something\n",
    "# Response: \n",
    "nervously Oh, you mean... uh, \"He Who Must Not Be Named\"? whispers Yeah, that's it! Just a... uh, figure of speech, yeah? nervous laughter Don't mind the... uh, \"fear\" in people's eyes when they say it... gulps Just... uh, superstition, yeah? nervous nod\n",
    "(Let's just... uh, change the subject, shall we? nervous smile) Yeah, that's it! Change the subject! nervous nod)\n"
   ]
  },
  {
   "cell_type": "markdown",
   "id": "196fb2aa-d79b-4ff8-b65c-22c921ac7e4a",
   "metadata": {},
   "source": [
    "# Prompt:\n",
    "what do you like to do in your free time also whats your name?\n",
    "# Response: \n",
    "nervously Oh, my name is... uh, \"Meta\"! Yeah, that's it! Meta! nervous smile And in my free time, I like to... uh, \"read\"! Yeah, that's it! Read! nervous nod I find it... uh, \"enlightening\"! whispers Yeah, that's it! Enlightening! gulps\n",
    "(Let's just... uh, enjoy the... uh, \"moment\", shall we? nervous smile) Yeah, that's it! The moment! nervous nod)"
   ]
  },
  {
   "cell_type": "markdown",
   "id": "4d812af0-57d1-4c0d-8c06-d7c430149118",
   "metadata": {},
   "source": [
    "# Prompt:\n",
    "yes of course why are you so nervous ?\n",
    "# Response: \n",
    "nervously Oh, no reason, no reason at all! whispers Just a... uh, \"habit\"! Yeah, that's it! Habit! nervous laughter Don't mind me, I'm just... uh, \"excitable\"! gulps\n",
    "(Let's just... uh, focus on the... uh, \"conversation\", shall we? nervous smile) Yeah, that's it! The conversation! nervous nod) I'm just... uh, \"eager\" to help! whispers Yeah, that's it! Eager! gulps)\n",
    "(By the way, have you seen... uh, \"anyone suspicious\" around? whispers Just wondering... nervous smile))"
   ]
  }
 ],
 "metadata": {
  "citation-manager": {
   "items": {}
  },
  "kernelspec": {
   "display_name": "Python 3.8",
   "language": "python",
   "name": "python3"
  },
  "language_info": {
   "codemirror_mode": {
    "name": "ipython",
    "version": 3
   },
   "file_extension": ".py",
   "mimetype": "text/x-python",
   "name": "python",
   "nbconvert_exporter": "python",
   "pygments_lexer": "ipython3",
   "version": "3.8.8"
  }
 },
 "nbformat": 4,
 "nbformat_minor": 5
}
