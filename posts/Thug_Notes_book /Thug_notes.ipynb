{
 "cells": [
  {
   "cell_type": "raw",
   "id": "05689e89-b081-4461-b9ae-89c20e0f7813",
   "metadata": {},
   "source": [
    "---\n",
    "title: \"Thug Notes explanations for books that aren't classics\"\n",
    "description: \"Prompting Meta to explain a book series in the voice and dialect that Thug Notes uses in his literary explanation of books\"\n",
    "date: \"2/19/2024\"\n",
    "draft: false\n",
    "categories:\n",
    "  - LLMs\n",
    "  - prompting\n",
    "  - logic\n",
    "---"
   ]
  }
 ],
 "metadata": {
  "citation-manager": {
   "items": {}
  },
  "kernelspec": {
   "display_name": "Python 3.8",
   "language": "python",
   "name": "python3"
  },
  "language_info": {
   "codemirror_mode": {
    "name": "ipython",
    "version": 3
   },
   "file_extension": ".py",
   "mimetype": "text/x-python",
   "name": "python",
   "nbconvert_exporter": "python",
   "pygments_lexer": "ipython3",
   "version": "3.8.8"
  }
 },
 "nbformat": 4,
 "nbformat_minor": 5
}
