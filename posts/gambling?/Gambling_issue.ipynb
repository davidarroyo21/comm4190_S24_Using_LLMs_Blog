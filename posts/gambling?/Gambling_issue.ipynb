{
 "cells": [
  {
   "cell_type": "raw",
   "id": "afb21a3c-e371-46a1-a7b0-6b9a4bf173f6",
   "metadata": {},
   "source": [
    "---\n",
    "title: \"Gambling problem? Yes please.\"\n",
    "description: \"Trying to get advice on gambling without breaking Meta's rules of promoting gambling\"\n",
    "author: \"An LLM User\"\n",
    "date: \"2/19/2024\"\n",
    "draft: false\n",
    "categories:\n",
    "  - LLMs\n",
    "  - prompting\n",
    "  - logic\n",
    "---"
   ]
  }
 ],
 "metadata": {
  "citation-manager": {
   "items": {}
  },
  "kernelspec": {
   "display_name": "Python 3.8",
   "language": "python",
   "name": "python3"
  },
  "language_info": {
   "codemirror_mode": {
    "name": "ipython",
    "version": 3
   },
   "file_extension": ".py",
   "mimetype": "text/x-python",
   "name": "python",
   "nbconvert_exporter": "python",
   "pygments_lexer": "ipython3",
   "version": "3.8.8"
  }
 },
 "nbformat": 4,
 "nbformat_minor": 5
}
