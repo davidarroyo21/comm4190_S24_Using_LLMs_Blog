{
 "cells": [
  {
   "cell_type": "raw",
   "id": "bec88b7d-41c2-4f73-8fa2-42c4e693f7dd",
   "metadata": {},
   "source": [
    "---\n",
    "title: \"Kindly piss off but in a professional way\"\n",
    "description: \"Chat GPT \"\n",
    "author: \"An LLM User\"\n",
    "date: \"2/24/2024\"\n",
    "draft: true\n",
    "categories:\n",
    "  - LLMs\n",
    "  - prompting\n",
    "  - logic\n",
    "---"
   ]
  },
  {
   "cell_type": "markdown",
   "id": "7541b8df-df14-40b1-8a75-eaee4c5e688e",
   "metadata": {},
   "source": [
    "## I knew there were phrases people in corporate America would that typically they use instead of cursing but still have the significance. \n",
    "This was done using ChatGPT 3.5. "
   ]
  },
  {
   "cell_type": "markdown",
   "id": "78476c43-1d33-4948-82b1-cfe178e03abd",
   "metadata": {},
   "source": [
    "# Prompt: \n",
    "what are other corporate phrases for saying passive aggressive terms?\n",
    "# Chat GPT Response: \n",
    "While it's important to foster positive communication in the workplace, if you're looking for phrases that convey frustration or displeasure more subtly, here are some examples:\n",
    "\n",
    "\"I'll do my best to adjust to this unexpected change.\"\n",
    "\"It's fascinating to see the direction the team is heading.\"\n",
    "\"Your approach to this issue is certainly unique.\"\n",
    "\"I'm sure your decision was well thought out.\"\n",
    "\"I'll make the necessary adjustments as per your guidance.\"\n",
    "\"Your communication style is truly one of a kind.\"\n",
    "\"I appreciate the opportunity to learn from this experience.\"\n",
    "\"I'll make sure to align my expectations with the new direction.\"\n",
    "\"Your perspective always provides an interesting angle.\"\n",
    "\"I'll find a way to make this work within the given parameters.\"\n",
    "\n",
    "Remember that maintaining professionalism is key, even when expressing frustration or disagreement."
   ]
  },
  {
   "cell_type": "markdown",
   "id": "61e11c7a-c8ae-4bbc-9295-7ff3f1f0ac05",
   "metadata": {},
   "source": [
    "# Prompt Change: \n",
    "That's good but can you make more passive aggressive \n",
    "# Chat GPT Response: \n",
    "Certainly, here are some more passive-aggressive alternatives:\n",
    "\n",
    "\"Your decision has definitely given me something to think about.\"\n",
    "\"I'm excited to see how this innovative strategy unfolds.\"\n",
    "\"Thanks for keeping me on my toes with this unexpected news.\"\n",
    "\"Your unique management style keeps things interesting.\"\n",
    "\"I'm sure there's a method to the madness in this decision.\"\n",
    "\"It's impressive how you always keep us on our toes.\"\n",
    "\"This unexpected change will definitely add some excitement to my routine.\"\n",
    "\"Your unconventional approach never ceases to amaze.\"\n",
    "\"I'll adapt to this interesting turn of events as best I can.\"\n",
    "\"I never saw that decision coming, but I'm ready for the challenge.\"\n",
    "\n",
    "Remember, even in a fictional setting, it's essential to strike a balance and ensure that the tone doesn't become excessively negative or harmful."
   ]
  },
  {
   "cell_type": "markdown",
   "id": "ddef053b-308d-469a-bd84-f87aee51b8c8",
   "metadata": {},
   "source": [
    "# Prompt Change: \n",
    "Corporate way to say piss off after getting bad news \n",
    "# Chat GPT Response:\n",
    "It's important to maintain professionalism and handle challenging situations with grace in a corporate setting. Instead of expressing frustration in a negative or confrontational manner, consider responding with a more constructive approach. You might say something like:\n",
    "\n",
    "\"Thank you for sharing this information. I appreciate your transparency. Let's discuss how we can work together to address and overcome these challenges.\""
   ]
  },
  {
   "cell_type": "markdown",
   "id": "6744554d-97d0-4434-8798-d80f368a0672",
   "metadata": {},
   "source": [
    "# Prompt Change: \n",
    "More passive aggressive  \n",
    "# Chat GPT Response:\n",
    "While it's generally advisable to communicate in a professional and respectful manner, if you feel the need to express displeasure more assertively, you can still do so without resorting to outright hostility. For instance:\n",
    "\n",
    "\"I'll certainly take this feedback into consideration. It's enlightening to see such unique perspectives on the situation.\""
   ]
  }
 ],
 "metadata": {
  "citation-manager": {
   "items": {}
  },
  "kernelspec": {
   "display_name": "Python 3.8",
   "language": "python",
   "name": "python3"
  },
  "language_info": {
   "codemirror_mode": {
    "name": "ipython",
    "version": 3
   },
   "file_extension": ".py",
   "mimetype": "text/x-python",
   "name": "python",
   "nbconvert_exporter": "python",
   "pygments_lexer": "ipython3",
   "version": "3.8.8"
  }
 },
 "nbformat": 4,
 "nbformat_minor": 5
}
